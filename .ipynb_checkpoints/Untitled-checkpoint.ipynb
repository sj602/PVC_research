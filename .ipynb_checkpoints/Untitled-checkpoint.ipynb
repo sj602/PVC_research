{
 "cells": [
  {
   "cell_type": "code",
   "execution_count": 1,
   "metadata": {},
   "outputs": [
    {
     "name": "stdout",
     "output_type": "stream",
     "text": [
      "Collecting py-ecg-detectors\n",
      "  Downloading py_ecg_detectors-1.0.2-py3-none-any.whl (13 kB)\n",
      "Requirement already satisfied: pywavelets in /Users/seonjin/anaconda3/lib/python3.7/site-packages (from py-ecg-detectors) (1.0.1)\n",
      "Requirement already satisfied: numpy in /Users/seonjin/anaconda3/lib/python3.7/site-packages (from py-ecg-detectors) (1.15.4)\n",
      "Collecting gatspy\n",
      "  Downloading gatspy-0.3.tar.gz (554 kB)\n",
      "\u001b[K     |████████████████████████████████| 554 kB 20 kB/s eta 0:00:011\n",
      "\u001b[?25hRequirement already satisfied: scipy in /Users/seonjin/anaconda3/lib/python3.7/site-packages (from py-ecg-detectors) (1.1.0)\n",
      "Building wheels for collected packages: gatspy\n",
      "  Building wheel for gatspy (setup.py) ... \u001b[?25ldone\n",
      "\u001b[?25h  Created wheel for gatspy: filename=gatspy-0.3-py3-none-any.whl size=43805 sha256=15cb64ea7560ebd24e3103c6c8c47c1a17dd2ff2a2b064315d0c590f91c44d8f\n",
      "  Stored in directory: /Users/seonjin/Library/Caches/pip/wheels/1f/c1/4c/8de278f816259b4f67e2356c0bda260a593375661e400bf31f\n",
      "Successfully built gatspy\n",
      "Installing collected packages: gatspy, py-ecg-detectors\n",
      "Successfully installed gatspy-0.3 py-ecg-detectors-1.0.2\n",
      "\u001b[33mWARNING: You are using pip version 20.0.2; however, version 20.1 is available.\n",
      "You should consider upgrading via the '/Users/seonjin/anaconda3/bin/python -m pip install --upgrade pip' command.\u001b[0m\n"
     ]
    }
   ],
   "source": [
    "!pip3 install py-ecg-detectors"
   ]
  },
  {
   "cell_type": "code",
   "execution_count": 81,
   "metadata": {},
   "outputs": [],
   "source": [
    "import os\n",
    "import pandas as pd\n",
    "import numpy as np\n",
    "from ecgdetectors import Detectors\n",
    "\n",
    "def find_r_peaks(idx):\n",
    "    BASE_DIR = os.getcwd()\n",
    "    DATA_DIR = os.path.join(BASE_DIR, \"data\")\n",
    "    DATA_LST = os.listdir(DATA_DIR)\n",
    "    SR_PATH = os.path.join(DATA_DIR, \"sr.txt\")\n",
    "    with open(SR_PATH) as f:\n",
    "        lines = f.readlines()\n",
    "        for file in DATA_LST:\n",
    "            if \"csv\" in file:\n",
    "#                 idx = file[:file.index('.')]\n",
    "                for line in lines:\n",
    "                    line = line.strip()\n",
    "                    if f'{idx}:' in line:\n",
    "                        sr = 150\n",
    "#                         sr = int(line[line.index(':')+1:])\n",
    "                        FILE_PATH = os.path.join(DATA_DIR, f\"{idx}.csv\")\n",
    "                        detectors = Detectors(sr)\n",
    "                        data = pd.read_csv(FILE_PATH)\n",
    "                        csv = data[\" V1\"]\n",
    "                        \n",
    "#                         print(detectors.hamilton_detector(csv))\n",
    "#                         print(detectors.pan_tompkins_detector(csv))\n",
    "#                         print(detectors.swt_detector(csv))\n",
    "#                         print(detectors.two_average_detector(csv))\n",
    "\n",
    "#                         r_peaks = detectors.hamilton_detector(csv)\n",
    "                        r_peaks = detectors.pan_tompkins_detector(csv)\n",
    "#                         r_peaks = detectors.swt_detector(csv)\n",
    "#                         r_peaks = detectors.two_average_detector(csv)\n",
    "\n",
    "                        return csv, r_peaks\n",
    "                    \n",
    "csv, r_peaks = find_r_peaks(1)"
   ]
  },
  {
   "cell_type": "code",
   "execution_count": 93,
   "metadata": {},
   "outputs": [
    {
     "name": "stdout",
     "output_type": "stream",
     "text": [
      "r_peaks [65, 501, 719, 1227, 1444, 1494, 1853, 1957, 2175, 2686, 2939, 3397, 3664, 4108, 4327, 4373, 4832]\n"
     ]
    }
   ],
   "source": [
    "def find_r_peaks_combined(idx):\n",
    "    detectors = Detectors(150)\n",
    "\n",
    "    BASE_DIR = os.getcwd()\n",
    "    DATA_DIR = os.path.join(BASE_DIR, \"data\")\n",
    "    \n",
    "    data = pd.read_csv(f\"{DATA_DIR}/{idx}.csv\")\n",
    "    data = data[\" V1\"]\n",
    "\n",
    "    r_peaks1 = detectors.swt_detector(data)\n",
    "    r_peaks2 = detectors.hamilton_detector(data) # 정확도 구림\n",
    "    r_peaks3 = detectors.pan_tompkins_detector(data)\n",
    "\n",
    "    min_detector = r_peaks1\n",
    "    mid_detector = r_peaks2\n",
    "    max_detector = r_peaks3\n",
    "\n",
    "    p = len(r_peaks1)\n",
    "    q = len(r_peaks2)\n",
    "    r = len(r_peaks3)\n",
    "\n",
    "    if p < q:\n",
    "        if p < r:\n",
    "            if r < q:\n",
    "                min_detector = r_peaks1\n",
    "                mid_detector = r_peaks3\n",
    "                max_detector = r_peaks2\n",
    "            else:            \n",
    "                min_detector = r_peaks1\n",
    "                mid_detector = r_peaks2\n",
    "                max_detector = r_peaks3\n",
    "        else:\n",
    "            min_detector = r_peaks3\n",
    "            mid_detector = r_peaks1\n",
    "            max_detector = r_peaks2\n",
    "    else:\n",
    "        if q < r:\n",
    "            if r < p:\n",
    "                min_detector = r_peaks2\n",
    "                mid_detector = r_peaks3\n",
    "                max_detector = r_peaks1\n",
    "            else:\n",
    "                min_detector = r_peaks2\n",
    "                mid_detector = r_peaks1\n",
    "                max_detector = r_peaks3\n",
    "        else:\n",
    "            min_detector = r_peaks3\n",
    "            mid_detector = r_peaks2\n",
    "            max_detector = r_peaks1\n",
    "\n",
    "    minLength = len(min_detector)\n",
    "    r_peak_point =[]\n",
    "    for i in range(len(min_detector)):\n",
    "        check = 0\n",
    "        avg_value = min_detector[i]\n",
    "        for j in range(len(mid_detector)):\n",
    "            if abs(min_detector[i]-mid_detector[j]) < 25:\n",
    "                avg_value += mid_detector[j]\n",
    "                check +=1\n",
    "        for k in range(len(max_detector)):\n",
    "            if abs(min_detector[i]-max_detector[k]) < 25:\n",
    "                avg_value += max_detector[k]\n",
    "                check +=1\n",
    "        if check >= 2:\n",
    "            r_peak_point.append(min_detector[i])\n",
    "    print(\"r_peaks\", r_peak_point)\n",
    "    return data, r_peak_point\n",
    "\n",
    "num = 7\n",
    "csv, r_peaks = find_r_peaks_combined(num)"
   ]
  },
  {
   "cell_type": "code",
   "execution_count": 94,
   "metadata": {},
   "outputs": [],
   "source": [
    "# import xml.etree.ElementTree as ET\n",
    "\n",
    "\n",
    "# def QRS_parse(xml_dir):\n",
    "#     doc = ET.parse(xml_dir)\n",
    "#     root = doc.getroot()\n",
    "#     QRS = root.find(\"QRSTimesTypes\") \n",
    "#     QRS_number = [x.findtext(\"Number\") for x in QRS]\n",
    "#     QRS_type = [x.findtext(\"Type\") for x in QRS]\n",
    "#     QRS_time = [x.findtext(\"Time\") for x in QRS]\n",
    "    \n",
    "#     return QRS_number,QRS_type,QRS_time\n",
    "\n",
    "# def find_type(idx): \n",
    "#     BASE_DIR = os.getcwd()\n",
    "#     DATA_DIR = os.path.join(BASE_DIR, \"data\")\n",
    "#     DATA_LST = os.listdir(DATA_DIR)\n",
    "#     for file in DATA_LST:\n",
    "#         if f\"{idx}.xml\" in file:\n",
    "#             FILE_PATH = os.path.join(DATA_DIR, file)\n",
    "#             QRS_number, QRS_type, QRS_time = QRS_parse(FILE_PATH)\n",
    "#             return QRS_number,QRS_type,QRS_time\n",
    "            \n",
    "# QRS_number, QRS_type, QRS_time = find_type(num)\n",
    "# print(QRS_number)\n",
    "# print(QRS_type)\n",
    "# print(QRS_time)"
   ]
  },
  {
   "cell_type": "code",
   "execution_count": 95,
   "metadata": {},
   "outputs": [
    {
     "name": "stdout",
     "output_type": "stream",
     "text": [
      "17\n",
      "[219, 214, 439, 136, 234, -87, -244, 68, 283, 214, -1356, 146, -97, 136, 322, -156, 156]\n",
      "36.88235294117647\n",
      "389.15683854032295\n"
     ]
    }
   ],
   "source": [
    "# R peak에 해당하는 Mv(전위 V의 평균), Stdv(전위 V의 표준편차) 구하기\n",
    "# V_sum = 0\n",
    "Vi = []\n",
    "print(len(r_peaks))\n",
    "for r in r_peaks:\n",
    "    Vi.append(csv[r])\n",
    "#     V_sum += data[r]\n",
    "    \n",
    "# V_avg = V_sum / len(r_peaks)\n",
    "# print(\"V 평균 \", V_avg)\n",
    "Mv = np.mean(Vi)\n",
    "Stdvi = np.std(Vi)\n",
    "\n",
    "print(Vi)\n",
    "print(Mv)\n",
    "print(Stdvi)"
   ]
  },
  {
   "cell_type": "code",
   "execution_count": 96,
   "metadata": {},
   "outputs": [
    {
     "name": "stdout",
     "output_type": "stream",
     "text": [
      "[0.11291966565261724, 0.44548186916490806, -0.5625060324580131, -0.19050228773389577, 0.7590465131330775, -1.0277946815667998, -0.8920613068974736, 0.08052886146003235, -0.7252057768544677, 0.35687962063859313, 0.04227725669544391, 0.03490274296354867, -0.8112930236396463, 0.16385369816631146, -0.5205340540255832, -1.2072917285061764, 0.21220146583013166]\n",
      "-0.21935865870455248\n",
      "0.5581242783166318\n"
     ]
    }
   ],
   "source": [
    "from scipy.stats import kurtosis\n",
    "\n",
    "Ki = []\n",
    "# Ki(첨도) 구하기\n",
    "# Xi: R peak의 전후 12샘플 (자기자신 포함 25샘플)의 전위벡터\n",
    "for r in r_peaks:\n",
    "#     Xi = csv[r-12:r+13].values\n",
    "    Xi = csv[r-5:r+6].values\n",
    "    Ki.append(kurtosis(Xi))\n",
    "\n",
    "Mk = np.mean(Ki)\n",
    "Stdki = np.std(Ki)\n",
    "print(Ki)\n",
    "print(Mk)\n",
    "print(Stdki)"
   ]
  },
  {
   "cell_type": "code",
   "execution_count": 97,
   "metadata": {},
   "outputs": [
    {
     "name": "stdout",
     "output_type": "stream",
     "text": [
      "1.9032549734533972\n",
      "-0.6931471805599453\n",
      "0.8459863847893928\n",
      "-0.8505840940380223\n",
      "-1.4678743481123135\n",
      "1.9712993830601329\n",
      "-1.2389314893469061\n",
      "0.7401041636477164\n",
      "0.8518745274146153\n",
      "-0.7029801014761843\n",
      "0.5934796953866647\n",
      "-0.5396205257139355\n",
      "0.5085759040319753\n",
      "-0.7067528326157239\n",
      "-1.5604303333274059\n",
      "2.30040881357145\n",
      "nan\n",
      "0.13031086267766057\n",
      "Mean of RRi 0.12216643376030675\n",
      "Std of RRi 1.2189867355935422\n"
     ]
    },
    {
     "name": "stderr",
     "output_type": "stream",
     "text": [
      "/Users/seonjin/anaconda3/lib/python3.7/site-packages/ipykernel_launcher.py:10: RuntimeWarning: invalid value encountered in log\n",
      "  # Remove the CWD from sys.path while we load stuff.\n"
     ]
    }
   ],
   "source": [
    "import math\n",
    "# Mrri(간격비 RRi의 평균), Stdrri(간격비 RRi의 표준편차) 구하기\n",
    "\n",
    "RRi_sum = 0\n",
    "RRi_lst = []\n",
    "for i in range(len(r_peaks)):\n",
    "    R_prev = r_peaks[i-1] if i > 0 else 0\n",
    "    R = r_peaks[i]\n",
    "    R_next = r_peaks[i+1] if i < len(r_peaks)-1 else 0\n",
    "    RRi = np.log((R_next - R) / (R - R_prev))\n",
    "    print(RRi)\n",
    "    if not math.isnan(RRi):\n",
    "        RRi_lst.append(RRi)\n",
    "        RRi_sum += RRi\n",
    "        \n",
    "print(RRi_sum/(len(RRi_lst)-1))    \n",
    "Mrri = np.mean(RRi_lst)\n",
    "Stdrri = np.std(RRi_lst)\n",
    "print(\"Mean of RRi\", Mrri)\n",
    "print(\"Std of RRi\", Stdrri)"
   ]
  },
  {
   "cell_type": "code",
   "execution_count": 98,
   "metadata": {},
   "outputs": [
    {
     "name": "stdout",
     "output_type": "stream",
     "text": [
      "THvl:  -352.2744855991465\n",
      "THvh:  426.0391914814994\n",
      "THkl:  -0.7774829370211843\n",
      "THkh:  0.3387656196120793\n",
      "THrrl:  -1.0968203018332354\n",
      "THrrh:  1.341153169353849\n",
      "\n",
      "Xi: [], Vi: 219, Ki: nan, RRi: 1.9032549734533972\n",
      "PVC\n",
      "\n",
      "Xi: [], Vi: 214, Ki: nan, RRi: -0.6931471805599453\n",
      "PVC\n",
      "\n",
      "Xi: [], Vi: 439, Ki: nan, RRi: 0.8459863847893928\n",
      "PVC\n",
      "\n",
      "Xi: [], Vi: 136, Ki: nan, RRi: -0.8505840940380223\n",
      "PVC\n",
      "\n",
      "Xi: [], Vi: 234, Ki: nan, RRi: -1.4678743481123135\n",
      "PVC\n",
      "\n",
      "Xi: [65, 501, 719, 1227, 1444, 1494, 1853, 1957, 2175, 2686, 2939], Vi: -87, Ki: -0.9044320356520461, RRi: 1.9712993830601329\n",
      "PVC\n",
      "\n",
      "Xi: [501, 719, 1227, 1444, 1494, 1853, 1957, 2175, 2686, 2939, 3397], Vi: -244, Ki: -0.899812425499436, RRi: -1.2389314893469061\n",
      "PVC\n",
      "\n",
      "Xi: [719, 1227, 1444, 1494, 1853, 1957, 2175, 2686, 2939, 3397, 3664], Vi: 68, Ki: -1.0333496355535046, RRi: 0.7401041636477164\n",
      "PVC\n",
      "\n",
      "Xi: [1227, 1444, 1494, 1853, 1957, 2175, 2686, 2939, 3397, 3664, 4108], Vi: 283, Ki: -1.1895259796280253, RRi: 0.8518745274146153\n",
      "PVC\n",
      "\n",
      "Xi: [1444, 1494, 1853, 1957, 2175, 2686, 2939, 3397, 3664, 4108, 4327], Vi: 214, Ki: -1.3404247946528554, RRi: -0.7029801014761843\n",
      "PVC\n",
      "\n",
      "Xi: [1494, 1853, 1957, 2175, 2686, 2939, 3397, 3664, 4108, 4327, 4373], Vi: -1356, Ki: -1.441776025236467, RRi: 0.5934796953866647\n",
      "PVC\n",
      "\n",
      "Xi: [1853, 1957, 2175, 2686, 2939, 3397, 3664, 4108, 4327, 4373, 4832], Vi: 146, Ki: -1.3879659144520664, RRi: -0.5396205257139355\n",
      "PVC\n",
      "\n",
      "Xi: [1957, 2175, 2686, 2939, 3397, 3664, 4108, 4327, 4373, 4832], Vi: -97, Ki: -1.26748387740975, RRi: 0.5085759040319753\n",
      "PVC\n",
      "\n",
      "Xi: [2175, 2686, 2939, 3397, 3664, 4108, 4327, 4373, 4832], Vi: 136, Ki: -1.1389322322519828, RRi: -0.7067528326157239\n",
      "PVC\n",
      "\n",
      "Xi: [2686, 2939, 3397, 3664, 4108, 4327, 4373, 4832], Vi: 322, Ki: -1.2254037305148358, RRi: -1.5604303333274059\n",
      "PVC\n",
      "\n",
      "Xi: [2939, 3397, 3664, 4108, 4327, 4373, 4832], Vi: -156, Ki: -1.0364928430280844, RRi: 2.30040881357145\n",
      "PVC\n",
      "\n",
      "Xi: [3397, 3664, 4108, 4327, 4373, 4832], Vi: 156, Ki: -1.0803680102096833, RRi: nan\n",
      "PVC\n",
      "\n"
     ]
    },
    {
     "name": "stderr",
     "output_type": "stream",
     "text": [
      "/Users/seonjin/anaconda3/lib/python3.7/site-packages/ipykernel_launcher.py:27: RuntimeWarning: invalid value encountered in log\n"
     ]
    }
   ],
   "source": [
    "# THvl, THvh, THkl, THrrl, THrrh\n",
    "ALPHAv = ALPHAk = ALPHArr = 1\n",
    "\n",
    "THvl = Mv - (ALPHAv * Stdvi)\n",
    "THvh = Mv + (ALPHAv * Stdvi)\n",
    "THkl = Mk - (ALPHAk * Stdki)\n",
    "THkh = Mk + (ALPHAk * Stdki)\n",
    "THrrl = Mrri - (ALPHArr * Stdrri)\n",
    "THrrh = Mrri + (ALPHArr * Stdrri)\n",
    "\n",
    "print(\"THvl: \", THvl)\n",
    "print(\"THvh: \", THvh)\n",
    "print(\"THkl: \", THkl)\n",
    "print(\"THkh: \", THkh)\n",
    "print(\"THrrl: \", THrrl)\n",
    "print(\"THrrh: \", THrrh)\n",
    "print()\n",
    "\n",
    "for i in range(len(r_peaks)):\n",
    "    r_peak_idx = r_peaks[i]\n",
    "    Vi = csv[r_peak_idx]\n",
    "    Xi = r_peaks[i-5:i+6]\n",
    "    Ki = kurtosis(Xi)\n",
    "    R_prev = r_peaks[i-1] if i > 0 else 0\n",
    "    R = r_peaks[i]\n",
    "    R_next = r_peaks[i+1] if i < len(r_peaks)-1 else 0\n",
    "    RRi = np.log((R_next - R) / (R - R_prev))\n",
    "    \n",
    "    print(f'Xi: {Xi}, Vi: {Vi}, Ki: {Ki}, RRi: {RRi}')\n",
    "    if (THvl <= Vi <= THvh) and (THkl <= Ki <= THkh) and (THrrl <= RRi <= THrrh):\n",
    "        print(\"Normal\")\n",
    "    else:\n",
    "        print(\"PVC\")\n",
    "    print()"
   ]
  },
  {
   "cell_type": "code",
   "execution_count": 99,
   "metadata": {},
   "outputs": [],
   "source": [
    "# 이미지에 검은선 긋기\n",
    "\n",
    "from PIL import Image\n",
    "import os\n",
    "\n",
    "BASE_DIR = os.getcwd()\n",
    "DATA_DIR = os.path.join(BASE_DIR, \"data\")\n",
    "\n",
    "im = Image.open(f\"{DATA_DIR}/{num}.jpg\")\n",
    "image_data = im.load()\n",
    "\n",
    "width, height = im.size  # 875, 656\n",
    "center_y = 317\n",
    "        \n",
    "for i in range(len(r_peaks)):\n",
    "    x = 115+round(r_peaks[i]*0.135)\n",
    "    for y in range(height):\n",
    "        image_data[x, y] = 0, 0, 0 \n",
    "\n",
    "im.save(\"text.jpg\")"
   ]
  },
  {
   "cell_type": "code",
   "execution_count": 100,
   "metadata": {
    "scrolled": false
   },
   "outputs": [
    {
     "data": {
      "image/jpeg": "[encoded data removed]",
      "text/plain": [
       "<IPython.core.display.Image object>"
      ]
     },
     "execution_count": 100,
     "metadata": {},
     "output_type": "execute_result"
    }
   ],
   "source": [
    "from IPython.display import Image\n",
    "Image(filename=\"text.jpg\") "
   ]
  },
  {
   "cell_type": "code",
   "execution_count": 101,
   "metadata": {},
   "outputs": [],
   "source": []
  },
  {
   "cell_type": "code",
   "execution_count": null,
   "metadata": {},
   "outputs": [],
   "source": []
  },
  {
   "cell_type": "code",
   "execution_count": null,
   "metadata": {},
   "outputs": [],
   "source": []
  }
 ],
 "metadata": {
  "kernelspec": {
   "display_name": "Python 3",
   "language": "python",
   "name": "python3"
  },
  "language_info": {
   "codemirror_mode": {
    "name": "ipython",
    "version": 3
   },
   "file_extension": ".py",
   "mimetype": "text/x-python",
   "name": "python",
   "nbconvert_exporter": "python",
   "pygments_lexer": "ipython3",
   "version": "3.7.1"
  }
 },
 "nbformat": 4,
 "nbformat_minor": 2
}
