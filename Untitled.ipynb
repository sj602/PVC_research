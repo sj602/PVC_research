{
 "cells": [
  {
   "cell_type": "code",
   "execution_count": 1,
   "metadata": {},
   "outputs": [
    {
     "name": "stdout",
     "output_type": "stream",
     "text": [
      "Collecting py-ecg-detectors\n",
      "  Downloading py_ecg_detectors-1.0.2-py3-none-any.whl (13 kB)\n",
      "Requirement already satisfied: pywavelets in /Users/seonjin/anaconda3/lib/python3.7/site-packages (from py-ecg-detectors) (1.0.1)\n",
      "Requirement already satisfied: numpy in /Users/seonjin/anaconda3/lib/python3.7/site-packages (from py-ecg-detectors) (1.15.4)\n",
      "Collecting gatspy\n",
      "  Downloading gatspy-0.3.tar.gz (554 kB)\n",
      "\u001b[K     |████████████████████████████████| 554 kB 20 kB/s eta 0:00:011\n",
      "\u001b[?25hRequirement already satisfied: scipy in /Users/seonjin/anaconda3/lib/python3.7/site-packages (from py-ecg-detectors) (1.1.0)\n",
      "Building wheels for collected packages: gatspy\n",
      "  Building wheel for gatspy (setup.py) ... \u001b[?25ldone\n",
      "\u001b[?25h  Created wheel for gatspy: filename=gatspy-0.3-py3-none-any.whl size=43805 sha256=15cb64ea7560ebd24e3103c6c8c47c1a17dd2ff2a2b064315d0c590f91c44d8f\n",
      "  Stored in directory: /Users/seonjin/Library/Caches/pip/wheels/1f/c1/4c/8de278f816259b4f67e2356c0bda260a593375661e400bf31f\n",
      "Successfully built gatspy\n",
      "Installing collected packages: gatspy, py-ecg-detectors\n",
      "Successfully installed gatspy-0.3 py-ecg-detectors-1.0.2\n",
      "\u001b[33mWARNING: You are using pip version 20.0.2; however, version 20.1 is available.\n",
      "You should consider upgrading via the '/Users/seonjin/anaconda3/bin/python -m pip install --upgrade pip' command.\u001b[0m\n"
     ]
    }
   ],
   "source": [
    "!pip3 install py-ecg-detectors"
   ]
  },
  {
   "cell_type": "code",
   "execution_count": 81,
   "metadata": {},
   "outputs": [],
   "source": [
    "import os\n",
    "import pandas as pd\n",
    "import numpy as np\n",
    "from ecgdetectors import Detectors\n",
    "\n",
    "def find_r_peaks(idx):\n",
    "    BASE_DIR = os.getcwd()\n",
    "    DATA_DIR = os.path.join(BASE_DIR, \"data\")\n",
    "    DATA_LST = os.listdir(DATA_DIR)\n",
    "    SR_PATH = os.path.join(DATA_DIR, \"sr.txt\")\n",
    "    with open(SR_PATH) as f:\n",
    "        lines = f.readlines()\n",
    "        for file in DATA_LST:\n",
    "            if \"csv\" in file:\n",
    "#                 idx = file[:file.index('.')]\n",
    "                for line in lines:\n",
    "                    line = line.strip()\n",
    "                    if f'{idx}:' in line:\n",
    "                        sr = 150\n",
    "#                         sr = int(line[line.index(':')+1:])\n",
    "                        FILE_PATH = os.path.join(DATA_DIR, f\"{idx}.csv\")\n",
    "                        detectors = Detectors(sr)\n",
    "                        data = pd.read_csv(FILE_PATH)\n",
    "                        csv = data[\" V1\"]\n",
    "                        \n",
    "#                         print(detectors.hamilton_detector(csv))\n",
    "#                         print(detectors.pan_tompkins_detector(csv))\n",
    "#                         print(detectors.swt_detector(csv))\n",
    "#                         print(detectors.two_average_detector(csv))\n",
    "\n",
    "#                         r_peaks = detectors.hamilton_detector(csv)\n",
    "                        r_peaks = detectors.pan_tompkins_detector(csv)\n",
    "#                         r_peaks = detectors.swt_detector(csv)\n",
    "#                         r_peaks = detectors.two_average_detector(csv)\n",
    "\n",
    "                        return csv, r_peaks\n",
    "                    \n",
    "csv, r_peaks = find_r_peaks(1)"
   ]
  },
  {
   "cell_type": "code",
   "execution_count": 81,
   "metadata": {},
   "outputs": [
    {
     "name": "stdout",
     "output_type": "stream",
     "text": [
      "r_peaks [354, 1046, 1114, 1368, 1847, 2073, 2567, 2823, 3269, 3498, 3961, 4221, 4649, 4882]\n"
     ]
    }
   ],
   "source": [
    "def find_r_peaks_combined(idx):\n",
    "    detectors = Detectors(150)\n",
    "\n",
    "    BASE_DIR = os.getcwd()\n",
    "    DATA_DIR = os.path.join(BASE_DIR, \"data\")\n",
    "    \n",
    "    data = pd.read_csv(f\"{DATA_DIR}/{idx}.csv\")\n",
    "    data = data[\" V1\"]\n",
    "\n",
    "    r_peaks1 = detectors.swt_detector(data)\n",
    "    r_peaks2 = detectors.hamilton_detector(data) # 정확도 구림\n",
    "    r_peaks3 = detectors.pan_tompkins_detector(data)\n",
    "\n",
    "    min_detector = r_peaks1\n",
    "    mid_detector = r_peaks2\n",
    "    max_detector = r_peaks3\n",
    "\n",
    "    p = len(r_peaks1)\n",
    "    q = len(r_peaks2)\n",
    "    r = len(r_peaks3)\n",
    "\n",
    "    if p < q:\n",
    "        if p < r:\n",
    "            if r < q:\n",
    "                min_detector = r_peaks1\n",
    "                mid_detector = r_peaks3\n",
    "                max_detector = r_peaks2\n",
    "            else:            \n",
    "                min_detector = r_peaks1\n",
    "                mid_detector = r_peaks2\n",
    "                max_detector = r_peaks3\n",
    "        else:\n",
    "            min_detector = r_peaks3\n",
    "            mid_detector = r_peaks1\n",
    "            max_detector = r_peaks2\n",
    "    else:\n",
    "        if q < r:\n",
    "            if r < p:\n",
    "                min_detector = r_peaks2\n",
    "                mid_detector = r_peaks3\n",
    "                max_detector = r_peaks1\n",
    "            else:\n",
    "                min_detector = r_peaks2\n",
    "                mid_detector = r_peaks1\n",
    "                max_detector = r_peaks3\n",
    "        else:\n",
    "            min_detector = r_peaks3\n",
    "            mid_detector = r_peaks2\n",
    "            max_detector = r_peaks1\n",
    "\n",
    "    minLength = len(min_detector)\n",
    "    r_peak_point =[]\n",
    "    for i in range(len(min_detector)):\n",
    "        check = 0\n",
    "        avg_value = min_detector[i]\n",
    "        for j in range(len(mid_detector)):\n",
    "            if abs(min_detector[i]-mid_detector[j]) < 25:\n",
    "                avg_value += mid_detector[j]\n",
    "                check +=1\n",
    "        for k in range(len(max_detector)):\n",
    "            if abs(min_detector[i]-max_detector[k]) < 25:\n",
    "                avg_value += max_detector[k]\n",
    "                check +=1\n",
    "        if check >= 2:\n",
    "            r_peak_point.append(min_detector[i])\n",
    "    print(\"r_peaks\", r_peak_point)\n",
    "    return data, r_peak_point\n",
    "\n",
    "num = 6\n",
    "csv, r_peaks = find_r_peaks_combined(num)"
   ]
  },
  {
   "cell_type": "code",
   "execution_count": 82,
   "metadata": {},
   "outputs": [
    {
     "name": "stdout",
     "output_type": "stream",
     "text": [
      "['1', '2', '3', '4', '5', '6', '7', '8', '9', '10', '11', '12', '13', '14', '15', '16', '17', '18', '19', '20', '21', '22', '23', '24', '25', '26', '27', '28', '29', '30', '31', None, None]\n",
      "['2', '2', '0', '1', '1', '1', '0', '1', '0', '0', '1', '1', '1', '1', '0', '1', '0', '1', '1', '1', '0', '0', '0', '0', '1', '1', '0', '0', '2', '2', '2', None, None]\n",
      "['124', '484', '834', '1086', '1346', '1610', '1912', '2190', '2480', '2766', '3046', '3340', '3630', '3920', '4230', '4514', '4816', '5114', '5410', '5704', '6010', '6312', '6616', '6924', '7220', '7516', '7820', '8122', '8662', '9190', '9572', None, None]\n"
     ]
    }
   ],
   "source": [
    "import xml.etree.ElementTree as ET\n",
    "\n",
    "\n",
    "def QRS_parse(xml_dir):\n",
    "    doc = ET.parse(xml_dir)\n",
    "    root = doc.getroot()\n",
    "    QRS = root.find(\"QRSTimesTypes\") \n",
    "    QRS_number = [x.findtext(\"Number\") for x in QRS]\n",
    "    QRS_type = [x.findtext(\"Type\") for x in QRS]\n",
    "    QRS_time = [x.findtext(\"Time\") for x in QRS]\n",
    "    \n",
    "    return QRS_number,QRS_type,QRS_time\n",
    "\n",
    "def find_type(idx): \n",
    "    BASE_DIR = os.getcwd()\n",
    "    DATA_DIR = os.path.join(BASE_DIR, \"data\")\n",
    "    DATA_LST = os.listdir(DATA_DIR)\n",
    "    for file in DATA_LST:\n",
    "        if f\"{idx}.xml\" in file:\n",
    "            FILE_PATH = os.path.join(DATA_DIR, file)\n",
    "            QRS_number, QRS_type, QRS_time = QRS_parse(FILE_PATH)\n",
    "            return QRS_number,QRS_type,QRS_time\n",
    "            \n",
    "QRS_number, QRS_type, QRS_time = find_type(num)\n",
    "print(QRS_number)\n",
    "print(QRS_type)\n",
    "print(QRS_time)"
   ]
  },
  {
   "cell_type": "code",
   "execution_count": 83,
   "metadata": {},
   "outputs": [
    {
     "name": "stdout",
     "output_type": "stream",
     "text": [
      "14\n",
      "[-590, -322, 219, -1073, 488, -1220, 663, -1239, 541, -1337, 366, -1190, 985, -536]\n",
      "-303.2142857142857\n",
      "799.6870082879236\n"
     ]
    }
   ],
   "source": [
    "# R peak에 해당하는 Mv(전위 V의 평균), Stdv(전위 V의 표준편차) 구하기\n",
    "# V_sum = 0\n",
    "Vi = []\n",
    "print(len(r_peaks))\n",
    "for r in r_peaks:\n",
    "    Vi.append(csv[r])\n",
    "#     V_sum += data[r]\n",
    "    \n",
    "# V_avg = V_sum / len(r_peaks)\n",
    "# print(\"V 평균 \", V_avg)\n",
    "Mv = np.mean(Vi)\n",
    "Stdvi = np.std(Vi)\n",
    "\n",
    "print(Vi)\n",
    "print(Mv)\n",
    "print(Stdvi)"
   ]
  },
  {
   "cell_type": "code",
   "execution_count": 84,
   "metadata": {},
   "outputs": [
    {
     "name": "stdout",
     "output_type": "stream",
     "text": [
      "[-0.6616660753655039, -0.8781882654189537, -0.44951973112265886, -1.138801739368889, 1.057163071707211, -0.9131061876043312, 0.3783430054297243, -0.7118390602315707, 0.7467276294029741, -0.8239217279717135, 0.016756698800597825, -0.8219183872239211, 0.8487471104427939, -0.9984575186593205]\n",
      "-0.3106915126559686\n",
      "0.7361739313412552\n"
     ]
    }
   ],
   "source": [
    "from scipy.stats import kurtosis\n",
    "\n",
    "Ki = []\n",
    "# Ki(첨도) 구하기\n",
    "# Xi: R peak의 전후 12샘플 (자기자신 포함 25샘플)의 전위벡터\n",
    "for r in r_peaks:\n",
    "#     Xi = csv[r-12:r+13].values\n",
    "    Xi = csv[r-5:r+6].values\n",
    "    Ki.append(kurtosis(Xi))\n",
    "\n",
    "Mk = np.mean(Ki)\n",
    "Stdki = np.std(Ki)\n",
    "print(Ki)\n",
    "print(Mk)\n",
    "print(Stdki)"
   ]
  },
  {
   "cell_type": "code",
   "execution_count": 85,
   "metadata": {},
   "outputs": [
    {
     "name": "stdout",
     "output_type": "stream",
     "text": [
      "0.6702890424838951\n",
      "-2.3200782504415627\n",
      "1.3178265618424299\n",
      "0.6343663303923787\n",
      "-0.7511655981386294\n",
      "0.7820005179156366\n",
      "-0.65735807270836\n",
      "0.5551415075405016\n",
      "-0.6665969484658243\n",
      "0.7040050505319944\n",
      "-0.5770454230707064\n",
      "0.49844156456626904\n",
      "-0.6080847420160963\n",
      "nan\n",
      "-0.03485487163067282\n",
      "Mean of RRi -0.032173727659082614\n",
      "Std of RRi 0.9513118233435316\n"
     ]
    },
    {
     "name": "stderr",
     "output_type": "stream",
     "text": [
      "/Users/seonjin/anaconda3/lib/python3.7/site-packages/ipykernel_launcher.py:10: RuntimeWarning: invalid value encountered in log\n",
      "  # Remove the CWD from sys.path while we load stuff.\n"
     ]
    }
   ],
   "source": [
    "import math\n",
    "# Mrri(간격비 RRi의 평균), Stdrri(간격비 RRi의 표준편차) 구하기\n",
    "\n",
    "RRi_sum = 0\n",
    "RRi_lst = []\n",
    "for i in range(len(r_peaks)):\n",
    "    R_prev = r_peaks[i-1] if i > 0 else 0\n",
    "    R = r_peaks[i]\n",
    "    R_next = r_peaks[i+1] if i < len(r_peaks)-1 else 0\n",
    "    RRi = np.log((R_next - R) / (R - R_prev))\n",
    "    print(RRi)\n",
    "    if not math.isnan(RRi):\n",
    "        RRi_lst.append(RRi)\n",
    "        RRi_sum += RRi\n",
    "        \n",
    "print(RRi_sum/(len(RRi_lst)-1))    \n",
    "Mrri = np.mean(RRi_lst)\n",
    "Stdrri = np.std(RRi_lst)\n",
    "print(\"Mean of RRi\", Mrri)\n",
    "print(\"Std of RRi\", Stdrri)"
   ]
  },
  {
   "cell_type": "code",
   "execution_count": 86,
   "metadata": {},
   "outputs": [
    {
     "name": "stdout",
     "output_type": "stream",
     "text": [
      "THvl:  -1102.9012940022094\n",
      "THvh:  496.4727225736379\n",
      "THkl:  -1.0468654439972238\n",
      "THkh:  0.4254824186852866\n",
      "THrrl:  -0.9834855510026143\n",
      "THrrh:  0.9191380956844489\n",
      "\n",
      "Xi: [], Vi: -590, Ki: nan, RRi: 0.6702890424838951\n",
      "PVC\n",
      "\n",
      "Xi: [], Vi: -322, Ki: nan, RRi: -2.3200782504415627\n",
      "PVC\n",
      "\n",
      "Xi: [], Vi: 219, Ki: nan, RRi: 1.3178265618424299\n",
      "PVC\n",
      "\n",
      "Xi: [], Vi: -1073, Ki: nan, RRi: 0.6343663303923787\n",
      "PVC\n",
      "\n",
      "Xi: [], Vi: 488, Ki: nan, RRi: -0.7511655981386294\n",
      "PVC\n",
      "\n",
      "Xi: [354, 1046, 1114, 1368, 1847, 2073, 2567, 2823, 3269, 3498, 3961], Vi: -1220, Ki: -1.155780515760533, RRi: 0.7820005179156366\n",
      "PVC\n",
      "\n",
      "Xi: [1046, 1114, 1368, 1847, 2073, 2567, 2823, 3269, 3498, 3961, 4221], Vi: 663, Ki: -1.3301001637421621, RRi: -0.65735807270836\n",
      "PVC\n",
      "\n",
      "Xi: [1114, 1368, 1847, 2073, 2567, 2823, 3269, 3498, 3961, 4221, 4649], Vi: -1239, Ki: -1.2198383331659413, RRi: 0.5551415075405016\n",
      "PVC\n",
      "\n",
      "Xi: [1368, 1847, 2073, 2567, 2823, 3269, 3498, 3961, 4221, 4649, 4882], Vi: 541, Ki: -1.2131748804099893, RRi: -0.6665969484658243\n",
      "PVC\n",
      "\n",
      "Xi: [1847, 2073, 2567, 2823, 3269, 3498, 3961, 4221, 4649, 4882], Vi: -1337, Ki: -1.261514805180958, RRi: 0.7040050505319944\n",
      "PVC\n",
      "\n",
      "Xi: [2073, 2567, 2823, 3269, 3498, 3961, 4221, 4649, 4882], Vi: 366, Ki: -1.2028005119060448, RRi: -0.5770454230707064\n",
      "PVC\n",
      "\n",
      "Xi: [2567, 2823, 3269, 3498, 3961, 4221, 4649, 4882], Vi: -1190, Ki: -1.3092475248549953, RRi: 0.49844156456626904\n",
      "PVC\n",
      "\n",
      "Xi: [2823, 3269, 3498, 3961, 4221, 4649, 4882], Vi: 985, Ki: -1.2643077506572045, RRi: -0.6080847420160963\n",
      "PVC\n",
      "\n",
      "Xi: [3269, 3498, 3961, 4221, 4649, 4882], Vi: -536, Ki: -1.3962273591018748, RRi: nan\n",
      "PVC\n",
      "\n"
     ]
    },
    {
     "name": "stderr",
     "output_type": "stream",
     "text": [
      "/Users/seonjin/anaconda3/lib/python3.7/site-packages/ipykernel_launcher.py:27: RuntimeWarning: invalid value encountered in log\n"
     ]
    }
   ],
   "source": [
    "# THvl, THvh, THkl, THrrl, THrrh\n",
    "ALPHAv = ALPHAk = ALPHArr = 1\n",
    "\n",
    "THvl = Mv - (ALPHAv * Stdvi)\n",
    "THvh = Mv + (ALPHAv * Stdvi)\n",
    "THkl = Mk - (ALPHAk * Stdki)\n",
    "THkh = Mk + (ALPHAk * Stdki)\n",
    "THrrl = Mrri - (ALPHArr * Stdrri)\n",
    "THrrh = Mrri + (ALPHArr * Stdrri)\n",
    "\n",
    "print(\"THvl: \", THvl)\n",
    "print(\"THvh: \", THvh)\n",
    "print(\"THkl: \", THkl)\n",
    "print(\"THkh: \", THkh)\n",
    "print(\"THrrl: \", THrrl)\n",
    "print(\"THrrh: \", THrrh)\n",
    "print()\n",
    "\n",
    "for i in range(len(r_peaks)):\n",
    "    r_peak_idx = r_peaks[i]\n",
    "    Vi = csv[r_peak_idx]\n",
    "    Xi = r_peaks[i-5:i+6]\n",
    "    Ki = kurtosis(Xi)\n",
    "    R_prev = r_peaks[i-1] if i > 0 else 0\n",
    "    R = r_peaks[i]\n",
    "    R_next = r_peaks[i+1] if i < len(r_peaks)-1 else 0\n",
    "    RRi = np.log((R_next - R) / (R - R_prev))\n",
    "    \n",
    "    print(f'Xi: {Xi}, Vi: {Vi}, Ki: {Ki}, RRi: {RRi}')\n",
    "    if (THvl <= Vi <= THvh) and (THkl <= Ki <= THkh) and (THrrl <= RRi <= THrrh):\n",
    "        print(\"Normal\")\n",
    "    else:\n",
    "        print(\"PVC\")\n",
    "    print()"
   ]
  },
  {
   "cell_type": "code",
   "execution_count": 91,
   "metadata": {},
   "outputs": [],
   "source": [
    "# 이미지에 검은선 긋기\n",
    "\n",
    "from PIL import Image\n",
    "import os\n",
    "\n",
    "BASE_DIR = os.getcwd()\n",
    "DATA_DIR = os.path.join(BASE_DIR, \"data\")\n",
    "\n",
    "im = Image.open(f\"{DATA_DIR}/{num}.jpg\")\n",
    "image_data = im.load()\n",
    "\n",
    "width, height = im.size  # 875, 656\n",
    "center_y = 317\n",
    "\n",
    "# jeong = ['124', '484', '834', '1086', '1346', '1610', '1912', '2190', '2480', '2766', '3046', '3340', '3630', '3920', '4230', '4514', '4816', '5114', '5410', '5704', '6010', '6312', '6616', '6924', '7220', '7516', '7820', '8122', '8662', '9190', '9572', None, None]\n",
    "# for i in range(len(jeong)):\n",
    "#     if jeong[i]:\n",
    "#         x = 115+round((int(jeong[i]))/2*0.135)\n",
    "#         for y in range(height):\n",
    "#             image_data[x, y] = 0, 0, 0 \n",
    "        \n",
    "for i in range(len(r_peaks)):\n",
    "    x = 115+round(r_peaks[i]*0.135)\n",
    "    for y in range(height):\n",
    "        image_data[x, y] = 0, 0, 0 \n",
    "\n",
    "im.save(\"text.jpg\")"
   ]
  },
  {
   "cell_type": "code",
   "execution_count": 92,
   "metadata": {
    "scrolled": false
   },
   "outputs": [
    {
     "data": {
      "image/jpeg": "[encoded data removed]",
      "text/plain": [
       "<IPython.core.display.Image object>"
      ]
     },
     "execution_count": 92,
     "metadata": {},
     "output_type": "execute_result"
    }
   ],
   "source": [
    "from IPython.display import Image\n",
    "Image(filename=\"text.jpg\") "
   ]
  },
  {
   "cell_type": "code",
   "execution_count": 80,
   "metadata": {},
   "outputs": [],
   "source": [
    "['1', '2', '3', '4', '5', '6', '7', '8', '9', '10', '11', '12', '13', '14', '15', '16', '17', '18', '19', '20', '21', '22', '23', '24', '25', '26', '27', '28', '29', '30', '31', None, None]\n",
    "['2', '2', '0', '1', '1', '1', '0', '1', '0', '0', '1', '1', '1', '1', '0', '1', '0', '1', '1', '1', '0', '0', '0', '0', '1', '1', '0', '0', '2', '2', '2', None, None]\n",
    "jeong = ['124', '484', '834', '1086', '1346', '1610', '1912', '2190', '2480', '2766', '3046', '3340', '3630', '3920', '4230', '4514', '4816', '5114', '5410', '5704', '6010', '6312', '6616', '6924', '7220', '7516', '7820', '8122', '8662', '9190', '9572', None, None]\n"
   ]
  },
  {
   "cell_type": "code",
   "execution_count": null,
   "metadata": {},
   "outputs": [],
   "source": []
  },
  {
   "cell_type": "code",
   "execution_count": null,
   "metadata": {},
   "outputs": [],
   "source": []
  }
 ],
 "metadata": {
  "kernelspec": {
   "display_name": "Python 3",
   "language": "python",
   "name": "python3"
  },
  "language_info": {
   "codemirror_mode": {
    "name": "ipython",
    "version": 3
   },
   "file_extension": ".py",
   "mimetype": "text/x-python",
   "name": "python",
   "nbconvert_exporter": "python",
   "pygments_lexer": "ipython3",
   "version": "3.7.1"
  }
 },
 "nbformat": 4,
 "nbformat_minor": 2
}
